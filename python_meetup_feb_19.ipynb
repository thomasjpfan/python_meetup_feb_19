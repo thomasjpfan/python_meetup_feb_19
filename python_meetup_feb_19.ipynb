{
 "cells": [
  {
   "cell_type": "markdown",
   "metadata": {},
   "source": [
    "# Meetup Feb 19"
   ]
  },
  {
   "cell_type": "code",
   "execution_count": 61,
   "metadata": {},
   "outputs": [],
   "source": [
    "! [ ! -z \"$COLAB_GPU\" ] && pip install skorch"
   ]
  },
  {
   "cell_type": "markdown",
   "metadata": {},
   "source": [
    "## Explore Data"
   ]
  },
  {
   "cell_type": "code",
   "execution_count": 1,
   "metadata": {},
   "outputs": [],
   "source": [
    "import numpy as np\n",
    "from sklearn.datasets import fetch_openml"
   ]
  },
  {
   "cell_type": "code",
   "execution_count": 59,
   "metadata": {},
   "outputs": [],
   "source": [
    "mnist_data = fetch_openml(data_id=554)"
   ]
  },
  {
   "cell_type": "code",
   "execution_count": 60,
   "metadata": {},
   "outputs": [
    {
     "name": "stdout",
     "output_type": "stream",
     "text": [
      "(70000, 784) (70000,)\n"
     ]
    }
   ],
   "source": [
    "X = mnist_data['data'].astype('float32')\n",
    "y = mnist_data['target'].astype('int64')\n",
    "\n",
    "print(X.shape, y.shape)"
   ]
  },
  {
   "cell_type": "markdown",
   "metadata": {},
   "source": [
    "## Simple Neural Network Model"
   ]
  },
  {
   "cell_type": "code",
   "execution_count": 7,
   "metadata": {},
   "outputs": [],
   "source": [
    "import torch.nn as nn\n",
    "\n",
    "class SimpleFeedforward(nn.Module):\n",
    "    def __init__(self):\n",
    "        super().__init__()\n",
    "        self.module = nn.Sequential(\n",
    "            nn.Linear(784, 98),\n",
    "            nn.ReLU(inplace=True),\n",
    "            nn.Dropout(0.5),\n",
    "            nn.Linear(98,10)\n",
    "        )\n",
    "    def forward(self, X):\n",
    "        return self.module(X)"
   ]
  },
  {
   "cell_type": "code",
   "execution_count": 8,
   "metadata": {},
   "outputs": [],
   "source": [
    "from sklearn.model_selection import train_test_split\n",
    "\n",
    "X_scaled = X / X.max()\n",
    "\n",
    "X_train, X_test, y_train, y_test = train_test_split(\n",
    "    X_scaled, y, test_size=0.25, random_state=42)"
   ]
  },
  {
   "cell_type": "code",
   "execution_count": 9,
   "metadata": {},
   "outputs": [],
   "source": [
    "from skorch import NeuralNet\n",
    "\n",
    "net = NeuralNet(\n",
    "    SimpleFeedforward,\n",
    "    criterion=nn.CrossEntropyLoss,\n",
    "    max_epochs=10,\n",
    "    lr=0.3,\n",
    "    # device='cuda', # uncomment out to run on gpu\n",
    ")"
   ]
  },
  {
   "cell_type": "code",
   "execution_count": 10,
   "metadata": {},
   "outputs": [
    {
     "name": "stdout",
     "output_type": "stream",
     "text": [
      "  epoch    train_loss    valid_loss     dur\n",
      "-------  ------------  ------------  ------\n",
      "      1        \u001b[36m0.5775\u001b[0m        \u001b[32m0.2973\u001b[0m  1.1797\n",
      "      2        \u001b[36m0.3208\u001b[0m        \u001b[32m0.2521\u001b[0m  1.4316\n",
      "      3        \u001b[36m0.2710\u001b[0m        \u001b[32m0.1968\u001b[0m  1.2767\n",
      "      4        \u001b[36m0.2397\u001b[0m        \u001b[32m0.1940\u001b[0m  1.1888\n",
      "      5        \u001b[36m0.2192\u001b[0m        \u001b[32m0.1624\u001b[0m  1.2892\n",
      "      6        \u001b[36m0.2069\u001b[0m        \u001b[32m0.1385\u001b[0m  1.1394\n",
      "      7        \u001b[36m0.1936\u001b[0m        \u001b[32m0.1300\u001b[0m  1.1347\n",
      "      8        \u001b[36m0.1856\u001b[0m        \u001b[32m0.1268\u001b[0m  1.1136\n",
      "      9        \u001b[36m0.1784\u001b[0m        0.1310  1.1285\n",
      "     10        \u001b[36m0.1715\u001b[0m        \u001b[32m0.1239\u001b[0m  1.0846\n"
     ]
    }
   ],
   "source": [
    "_ = net.fit(X_train, y_train)"
   ]
  },
  {
   "cell_type": "code",
   "execution_count": 11,
   "metadata": {},
   "outputs": [
    {
     "name": "stdout",
     "output_type": "stream",
     "text": [
      "     11        \u001b[36m0.1609\u001b[0m        \u001b[32m0.1173\u001b[0m  1.0857\n",
      "     12        \u001b[36m0.1588\u001b[0m        \u001b[32m0.1164\u001b[0m  1.1218\n",
      "     13        \u001b[36m0.1551\u001b[0m        0.1202  1.0993\n",
      "     14        \u001b[36m0.1520\u001b[0m        \u001b[32m0.1080\u001b[0m  1.3218\n",
      "     15        0.1540        0.1319  1.3325\n"
     ]
    }
   ],
   "source": [
    "net.set_params(max_epochs=5)\n",
    "_ = net.partial_fit(X_train, y_train)"
   ]
  },
  {
   "cell_type": "markdown",
   "metadata": {},
   "source": [
    "## History"
   ]
  },
  {
   "cell_type": "code",
   "execution_count": 12,
   "metadata": {},
   "outputs": [
    {
     "data": {
      "text/plain": [
       "15"
      ]
     },
     "execution_count": 12,
     "metadata": {},
     "output_type": "execute_result"
    }
   ],
   "source": [
    "len(net.history)"
   ]
  },
  {
   "cell_type": "code",
   "execution_count": 13,
   "metadata": {},
   "outputs": [
    {
     "data": {
      "text/plain": [
       "0.13188647115798224"
      ]
     },
     "execution_count": 13,
     "metadata": {},
     "output_type": "execute_result"
    }
   ],
   "source": [
    "net.history[-1, 'valid_loss']"
   ]
  },
  {
   "cell_type": "code",
   "execution_count": 14,
   "metadata": {},
   "outputs": [
    {
     "data": {
      "text/plain": [
       "[0.1551400553612482, 0.1520235111486344, 0.15403895963941303]"
      ]
     },
     "execution_count": 14,
     "metadata": {},
     "output_type": "execute_result"
    }
   ],
   "source": [
    "net.history[-3:, 'train_loss']"
   ]
  },
  {
   "cell_type": "markdown",
   "metadata": {},
   "source": [
    "## Callbacks"
   ]
  },
  {
   "cell_type": "markdown",
   "metadata": {},
   "source": [
    "### EpochScoring"
   ]
  },
  {
   "cell_type": "code",
   "execution_count": 54,
   "metadata": {},
   "outputs": [],
   "source": [
    "from sklearn.metrics import make_scorer\n",
    "from skorch.callbacks import EpochScoring\n",
    "\n",
    "def accuracy_argmax(y_true, y_pred):\n",
    "    return np.mean(y_true == np.argmax(y_pred, axis=-1))\n",
    "accuracy_argmax_scorer = make_scorer(accuracy_argmax)\n",
    "\n",
    "epoch_acc = EpochScoring(\n",
    "    accuracy_argmax_scorer,\n",
    "    name='valid_acc',\n",
    "    lower_is_better=False)"
   ]
  },
  {
   "cell_type": "markdown",
   "metadata": {},
   "source": [
    "## Checkpointing"
   ]
  },
  {
   "cell_type": "code",
   "execution_count": 19,
   "metadata": {},
   "outputs": [],
   "source": [
    "from skorch.callbacks import Checkpoint"
   ]
  },
  {
   "cell_type": "code",
   "execution_count": 21,
   "metadata": {},
   "outputs": [],
   "source": [
    "cp = Checkpoint(monitor='valid_acc_best', dirname='exp_01')"
   ]
  },
  {
   "cell_type": "code",
   "execution_count": 46,
   "metadata": {},
   "outputs": [],
   "source": [
    "net = NeuralNet(\n",
    "    SimpleFeedforward,\n",
    "    criterion=nn.CrossEntropyLoss,\n",
    "    max_epochs=15,\n",
    "    lr=0.8,\n",
    "    # device='cuda', # uncomment out to run on gpu\n",
    "    callbacks=[epoch_acc, cp]\n",
    ")"
   ]
  },
  {
   "cell_type": "code",
   "execution_count": 47,
   "metadata": {},
   "outputs": [
    {
     "name": "stdout",
     "output_type": "stream",
     "text": [
      "  epoch    train_loss    valid_acc    valid_loss    cp     dur\n",
      "-------  ------------  -----------  ------------  ----  ------\n",
      "      1        \u001b[36m0.5531\u001b[0m       \u001b[32m0.8747\u001b[0m        \u001b[35m0.4470\u001b[0m     +  0.7692\n",
      "      2        \u001b[36m0.3142\u001b[0m       \u001b[32m0.9126\u001b[0m        \u001b[35m0.2912\u001b[0m     +  0.7537\n",
      "      3        \u001b[36m0.2641\u001b[0m       \u001b[32m0.9539\u001b[0m        \u001b[35m0.1579\u001b[0m     +  0.7501\n",
      "      4        \u001b[36m0.2427\u001b[0m       0.9488        0.1874        0.7449\n",
      "      5        \u001b[36m0.2268\u001b[0m       \u001b[32m0.9554\u001b[0m        \u001b[35m0.1484\u001b[0m     +  0.7306\n",
      "      6        \u001b[36m0.2141\u001b[0m       0.9543        0.1516        0.7583\n",
      "      7        \u001b[36m0.2058\u001b[0m       0.9529        0.1734        0.7170\n",
      "      8        \u001b[36m0.1987\u001b[0m       0.9533        0.1547        0.7559\n",
      "      9        \u001b[36m0.1918\u001b[0m       \u001b[32m0.9591\u001b[0m        \u001b[35m0.1440\u001b[0m     +  0.7329\n",
      "     10        \u001b[36m0.1818\u001b[0m       0.9586        \u001b[35m0.1391\u001b[0m        0.7389\n",
      "     11        \u001b[36m0.1789\u001b[0m       \u001b[32m0.9656\u001b[0m        \u001b[35m0.1190\u001b[0m     +  0.7413\n",
      "     12        \u001b[36m0.1687\u001b[0m       0.9527        0.1630        0.7221\n",
      "     13        0.1697       0.9623        0.1210        0.7429\n",
      "     14        \u001b[36m0.1646\u001b[0m       0.9642        0.1196        0.7989\n",
      "     15        \u001b[36m0.1626\u001b[0m       0.9522        0.1848        0.7028\n"
     ]
    }
   ],
   "source": [
    "_ = net.fit(X_train, y_train)"
   ]
  },
  {
   "cell_type": "code",
   "execution_count": 55,
   "metadata": {},
   "outputs": [
    {
     "name": "stdout",
     "output_type": "stream",
     "text": [
      "test accuracy: 0.9629714285714286\n"
     ]
    }
   ],
   "source": [
    "net.load_params(checkpoint=cp)\n",
    "y_pred = net.predict(X_test)\n",
    "print('test accuracy:', accuracy_argmax(y_test, y_pred))"
   ]
  },
  {
   "cell_type": "markdown",
   "metadata": {},
   "source": [
    "## Integration with scikit-learn"
   ]
  },
  {
   "cell_type": "code",
   "execution_count": 50,
   "metadata": {},
   "outputs": [],
   "source": [
    "from sklearn.pipeline import Pipeline\n",
    "from sklearn.preprocessing import MinMaxScaler"
   ]
  },
  {
   "cell_type": "code",
   "execution_count": 51,
   "metadata": {},
   "outputs": [],
   "source": [
    "pipe = Pipeline([\n",
    "    ('min_max', MinMaxScaler()),\n",
    "    ('net', net)\n",
    "])"
   ]
  },
  {
   "cell_type": "code",
   "execution_count": 52,
   "metadata": {},
   "outputs": [
    {
     "name": "stdout",
     "output_type": "stream",
     "text": [
      "Re-initializing module because the following parameters were re-set: .\n",
      "Re-initializing optimizer because the following parameters were re-set: .\n",
      "  epoch    train_loss    valid_acc    valid_loss    cp     dur\n",
      "-------  ------------  -----------  ------------  ----  ------\n",
      "      1        \u001b[36m0.5913\u001b[0m       \u001b[32m0.8948\u001b[0m        \u001b[35m0.3367\u001b[0m     +  0.8206\n",
      "      2        \u001b[36m0.3410\u001b[0m       \u001b[32m0.9182\u001b[0m        \u001b[35m0.2595\u001b[0m     +  0.8401\n",
      "      3        \u001b[36m0.2980\u001b[0m       \u001b[32m0.9440\u001b[0m        \u001b[35m0.1805\u001b[0m     +  0.8322\n",
      "      4        \u001b[36m0.2656\u001b[0m       \u001b[32m0.9449\u001b[0m        0.1878     +  0.8420\n",
      "      5        \u001b[36m0.2534\u001b[0m       \u001b[32m0.9557\u001b[0m        \u001b[35m0.1393\u001b[0m     +  0.8353\n",
      "      6        \u001b[36m0.2342\u001b[0m       0.9303        0.2460        0.8427\n",
      "      7        \u001b[36m0.2293\u001b[0m       \u001b[32m0.9574\u001b[0m        \u001b[35m0.1389\u001b[0m     +  0.8101\n",
      "      8        \u001b[36m0.2215\u001b[0m       0.9465        0.1661        0.7980\n",
      "      9        \u001b[36m0.2162\u001b[0m       0.9532        0.1593        0.8075\n",
      "     10        \u001b[36m0.2123\u001b[0m       0.9556        0.1474        0.7320\n",
      "     11        \u001b[36m0.2021\u001b[0m       \u001b[32m0.9618\u001b[0m        \u001b[35m0.1304\u001b[0m     +  0.7400\n",
      "     12        \u001b[36m0.2014\u001b[0m       \u001b[32m0.9664\u001b[0m        \u001b[35m0.1164\u001b[0m     +  0.7793\n",
      "     13        \u001b[36m0.1966\u001b[0m       0.9594        0.1369        0.7271\n",
      "     14        \u001b[36m0.1928\u001b[0m       0.9628        0.1252        0.7563\n",
      "     15        \u001b[36m0.1878\u001b[0m       0.9652        0.1206        0.7348\n"
     ]
    }
   ],
   "source": [
    "_ = pipe.fit(X_train, y_train)"
   ]
  }
 ],
 "metadata": {
  "kernelspec": {
   "display_name": "Python 3",
   "language": "python",
   "name": "python3"
  },
  "language_info": {
   "codemirror_mode": {
    "name": "ipython",
    "version": 3
   },
   "file_extension": ".py",
   "mimetype": "text/x-python",
   "name": "python",
   "nbconvert_exporter": "python",
   "pygments_lexer": "ipython3",
   "version": "3.7.0"
  }
 },
 "nbformat": 4,
 "nbformat_minor": 2
}
